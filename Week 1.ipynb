{
 "cells": [
  {
   "cell_type": "code",
   "execution_count": 1,
   "metadata": {},
   "outputs": [],
   "source": [
    "Complement =  {\"A\":\"T\", \"T\":\"A\",\"G\":\"C\",\"C\":\"G\"}\n",
    "def reverse_complement(seq):\n",
    "    \"\"\" Swaps Guanine with cytosine and Adenine with thymine and vice versa. Then reverses the string\"\"\"\n",
    "    string = ''\n",
    "    for nuc in seq:\n",
    "        string += Complement[nuc]\n",
    "    return string[::-1]"
   ]
  },
  {
   "cell_type": "code",
   "execution_count": 12,
   "metadata": {},
   "outputs": [],
   "source": [
    "file = open(r\"D:\\Summers\\BSE322\\Algorithms-DNA-Sequencing-master\\1_week\\lambda_virus.fa\",'r')\n",
    "file.readline().replace(\"\\n\",\"\")\n",
    "genome = file.read().replace(\"\\n\",\"\")\n",
    "#print(genome)"
   ]
  },
  {
   "cell_type": "code",
   "execution_count": 60,
   "metadata": {},
   "outputs": [
    {
     "name": "stdout",
     "output_type": "stream",
     "text": [
      "Counter({'G': 12820, 'A': 12334, 'T': 11986, 'C': 11362})\n"
     ]
    }
   ],
   "source": [
    "from collections import Counter\n",
    "import collections\n",
    "count = Counter(genome)\n",
    "print(count)"
   ]
  },
  {
   "cell_type": "code",
   "execution_count": 14,
   "metadata": {},
   "outputs": [],
   "source": [
    "def naive(seq, sub_seq):\n",
    "    \"\"\" searches for all occurences of subsequence(text) in a given sequence\"\"\"\n",
    "    occurences = []\n",
    "    for i in range(0,len(seq) - len(sub_seq) + 1):\n",
    "        match = True\n",
    "        for j in range(len(sub_seq)):\n",
    "            if not seq[i+j] == sub_seq[j]:\n",
    "                match = False\n",
    "                break\n",
    "        if match:\n",
    "            occurences.append(i)\n",
    "    return occurences"
   ]
  },
  {
   "cell_type": "code",
   "execution_count": 16,
   "metadata": {},
   "outputs": [],
   "source": [
    "question1 = '''1. How many times does AGGT or its reverse complement (ACCT) occur in the lambda virus genome?\n",
    "E.g. if AGGT occurs 10 times and ACCT occurs 12 times, you should report 22.'''\n",
    "#print(question1)"
   ]
  },
  {
   "cell_type": "code",
   "execution_count": 19,
   "metadata": {},
   "outputs": [
    {
     "name": "stdout",
     "output_type": "stream",
     "text": [
      "306\n"
     ]
    }
   ],
   "source": [
    "n = len(naive(genome, 'AGGT')) + len(naive(genome, \"ACCT\"))\n",
    "print(n)"
   ]
  },
  {
   "cell_type": "code",
   "execution_count": 20,
   "metadata": {},
   "outputs": [],
   "source": [
    "question2 = '''2. How many times does TTAA or its reverse complement occur in the labda virus genome?\n",
    "Hint: TTAA and its reverse complement are equal, so remember to not double count'''\n",
    "#print(question2)"
   ]
  },
  {
   "cell_type": "code",
   "execution_count": 21,
   "metadata": {},
   "outputs": [
    {
     "name": "stdout",
     "output_type": "stream",
     "text": [
      "195\n"
     ]
    }
   ],
   "source": [
    "n = len(naive(genome, 'TTAA'))\n",
    "print(n)"
   ]
  },
  {
   "cell_type": "code",
   "execution_count": 22,
   "metadata": {},
   "outputs": [],
   "source": [
    "question3 = '''What is the offset of the leftmost occurrence of ACTAAGT or its reverse complement\n",
    "in the Lambda virus genome? E.g. if the leftmost occurrence of ACTAAGT is at offset 40 (0-based)\n",
    "and the leftmost occurrence of its reverse complement ACTTAGT is at offset 29, then report 29.'''"
   ]
  },
  {
   "cell_type": "code",
   "execution_count": 23,
   "metadata": {},
   "outputs": [
    {
     "name": "stdout",
     "output_type": "stream",
     "text": [
      "26028\n"
     ]
    }
   ],
   "source": [
    "occurences1 = naive(genome, 'ACTAAGT')\n",
    "occurences2 = naive(genome, reverse_complement('ACTAAGT'))\n",
    "ans = min(occurences1[0],occurences2[0])\n",
    "print(ans)"
   ]
  },
  {
   "cell_type": "code",
   "execution_count": 24,
   "metadata": {},
   "outputs": [],
   "source": [
    "question4 = '''What is the offset of the leftmost occurrence of AGTCGA or its reverse complement\n",
    "in the Lambda virus genome?'''"
   ]
  },
  {
   "cell_type": "code",
   "execution_count": 26,
   "metadata": {},
   "outputs": [
    {
     "name": "stdout",
     "output_type": "stream",
     "text": [
      "occurences1 : 18005 occurences2 : 450\n",
      "450\n"
     ]
    }
   ],
   "source": [
    "occurences1 = naive(genome, 'AGTCGA')\n",
    "occurences2 = naive(genome, reverse_complement('AGTCGA'))\n",
    "print(\"occurences1 : %d occurences2 : %d\" % (occurences1[0],occurences2[0]))\n",
    "ans = min(occurences1[0],occurences2[0])\n",
    "print(ans)"
   ]
  },
  {
   "cell_type": "code",
   "execution_count": 27,
   "metadata": {},
   "outputs": [],
   "source": [
    "question5 = '''As we will discuss, sometimes we would like to find approximate matches for P in T.\n",
    "That is, we want to find occurrences with one or more differences.\n",
    "\n",
    "For Questions 5 and 6, make a new version of the naive function called naive_2mm\n",
    "that allows up to 2 mismatches per occurrence. Unlike for the previous questions,\n",
    "do not consider the reverse complement here. We're looking for approximate matches for P itself,\n",
    "not its reverse complement.\n",
    "\n",
    "For example, ACTTTA occurs twice in ACTTACTTGATAAAGT, once at offset 0 with 2 mismatches,\n",
    "and once at offset 4 with 1 mismatch. So naive_2mm(’ACTTTA’,’ACTTACTTGATAAAGT’)\n",
    "should return the list [0,4].\n",
    "\n",
    "How many times does TTCAAGCC occur in the Lambda virus genome when allowing up to 2 mismatches?'''"
   ]
  },
  {
   "cell_type": "code",
   "execution_count": 30,
   "metadata": {},
   "outputs": [
    {
     "data": {
      "text/plain": [
       "[0, 4]"
      ]
     },
     "execution_count": 30,
     "metadata": {},
     "output_type": "execute_result"
    }
   ],
   "source": [
    "def naive_modified(seq,sub_seq,n):\n",
    "    \"\"\"allows n mismatches while matching\"\"\"\n",
    "    occurences = []\n",
    "    for i in range(0,len(seq) - len(sub_seq) + 1):\n",
    "        match = True\n",
    "        temp_mis = 0\n",
    "        for j in range(len(sub_seq)):\n",
    "            if not seq[i+j] == sub_seq[j]:\n",
    "                temp_mis += 1\n",
    "            if temp_mis > n:\n",
    "                match = False\n",
    "                break                \n",
    "        if match:\n",
    "            occurences.append(i)\n",
    "    return occurences\n",
    "#naive_modified( 'ACTTACTTGATAAAGT','ACTTTA', 2)"
   ]
  },
  {
   "cell_type": "code",
   "execution_count": 32,
   "metadata": {},
   "outputs": [
    {
     "name": "stdout",
     "output_type": "stream",
     "text": [
      "191\n"
     ]
    }
   ],
   "source": [
    "ans = len(naive_modified(genome, \"TTCAAGCC\",2))\n",
    "print(ans)"
   ]
  },
  {
   "cell_type": "code",
   "execution_count": 33,
   "metadata": {},
   "outputs": [],
   "source": [
    "question6 = '''What is the offset of the leftmost occurrence of AGGAGGTT\n",
    "in the Lambda virus genome when allowing up to 2 mismatches?'''"
   ]
  },
  {
   "cell_type": "code",
   "execution_count": 39,
   "metadata": {},
   "outputs": [
    {
     "name": "stdout",
     "output_type": "stream",
     "text": [
      "49\n"
     ]
    }
   ],
   "source": [
    "print(naive_modified(genome,\"AGGAGGTT\",2)[0])"
   ]
  },
  {
   "cell_type": "code",
   "execution_count": null,
   "metadata": {},
   "outputs": [],
   "source": [
    "question7 = '''Finally, download and parse the provided FASTQ file containing real DNA sequencing reads\n",
    "derived from a human:\n",
    "\n",
    "https://d28rh4a8wq0iu5.cloudfront.net/ads1/data/ERR037900_1.first1000.fastq\n",
    "\n",
    "Note that the file has many reads in it and you should examine all of them together when answering this question.\n",
    "The reads are taken from this study:\n",
    "\n",
    "Ajay, S. S., Parker, S. C., Abaan, H. O., Fajardo, K. V. F., & Margulies, E. H. (2011). Accurate\n",
    "\n",
    "and comprehensive sequencing of personal genomes. Genome research, 21(9), 1498-1505.\n",
    "\n",
    "This dataset has something wrong with it; one of the sequencing cycles is poor quality.\n",
    "\n",
    "Report which sequencing cycle has the problem. Remember that a sequencing cycle corresponds\n",
    "to a particular offset in all the reads. For example, if the leftmost read position seems\n",
    "to have a problem consistently across reads, report 0. If the fourth position from the left has the problem,\n",
    "report 3. Do whatever analysis you think is needed to identify the bad cycle.\n",
    "It might help to review the \"Analyzing reads by position\" video.'''"
   ]
  },
  {
   "cell_type": "code",
   "execution_count": 46,
   "metadata": {},
   "outputs": [],
   "source": [
    "file2 = file = open(r\"D:\\Summers\\BSE322\\Algorithms-DNA-Sequencing-master\\1_week\\ERR037900_1.first1000.fastq\",'r')\n",
    "#print(file2)"
   ]
  },
  {
   "cell_type": "code",
   "execution_count": 47,
   "metadata": {},
   "outputs": [],
   "source": [
    "def read_fastq(file_name):\n",
    "    sequences = []\n",
    "    qualities = []\n",
    "    while True:\n",
    "        file_name.readline()  #skip name line\n",
    "        seq = file_name.readline().rstrip() #read base sequence\n",
    "        file_name.readline()  #skip placeholder line\n",
    "        qual = file_name.readline().rstrip() #base quality line\n",
    "        if len(seq) == 0:\n",
    "            break\n",
    "        sequences.append(seq)\n",
    "        qualities.append(qual)\n",
    "    return sequences, qualities\n",
    "sequences,qualities = read_fastq(file2)"
   ]
  },
  {
   "cell_type": "code",
   "execution_count": 54,
   "metadata": {},
   "outputs": [
    {
     "name": "stdout",
     "output_type": "stream",
     "text": [
      "[0, 0, 17723, 0, 2, 11, 11, 28, 23, 55, 100, 111, 86, 174, 185, 272, 317, 259, 390, 1523, 2782, 762, 286, 413, 403, 538, 351, 694, 971, 777, 1024, 1449, 1341, 1312, 1916, 2233, 3025, 4043, 6640, 45696, 2074, 0, 0, 0, 0, 0, 0, 0, 0, 0]\n"
     ]
    }
   ],
   "source": [
    "def Q_to_phred33(Q):\n",
    "    '''Turn Q into Phred+33 ASCII-­‐encoded quality'''\n",
    "    return chr(Q + 33)          # converts character to integer according to ASCII table\n",
    "def phred33_to_Q(qual):\n",
    "    '''Turn Phred+33 ASCII-encoded quality into Q'''\n",
    "    return ord(qual) - 33       # converts integer to character according to \n",
    "#print(phred33_to_Q('#'))\n",
    "def create_hist(qualities):     #create histogram to count the frequency of each quality score\n",
    "    hist = [0]*50\n",
    "    for qual in qualities:\n",
    "        for i in qual:\n",
    "            hist[phred33_to_Q(i)] += 1\n",
    "    return hist\n",
    "h = create_hist(qualities)\n",
    "print(h)"
   ]
  },
  {
   "cell_type": "code",
   "execution_count": 56,
   "metadata": {},
   "outputs": [
    {
     "data": {
      "image/png": "[encoded data removed]",
      "text/plain": [
       "<Figure size 432x288 with 1 Axes>"
      ]
     },
     "metadata": {
      "needs_background": "light"
     },
     "output_type": "display_data"
    }
   ],
   "source": [
    "%matplotlib inline\n",
    "import matplotlib.pyplot as plt\n",
    "plt.bar(range(len(h)),h)\n",
    "plt.show()"
   ]
  },
  {
   "cell_type": "code",
   "execution_count": 68,
   "metadata": {},
   "outputs": [
    {
     "name": "stdout",
     "output_type": "stream",
     "text": [
      "Index of worst quality : 111\n",
      "Worst Quality sequence is : A@A@A9@?>A45555@@46?54/5/554+588<<8FCBF#############################################################\n"
     ]
    }
   ],
   "source": [
    "def max_poor_qual_cycle(qualities):  #to find which sequencing cycle has the worst quality\n",
    "    min_score = 99999999999\n",
    "    max_index = -1\n",
    "    for i, qual in enumerate(qualities):\n",
    "        score = sum(map(ord,qual))\n",
    "        if min_score > score:\n",
    "            min_score = score\n",
    "            min_index = i\n",
    "    return min_index\n",
    "offset = max_poor_qual_cycle(qualities)\n",
    "print(\"Index of worst quality : %d\" %(offset))\n",
    "print(\"Worst Quality sequence is : \" + qualities[111])\n"
   ]
  }
 ],
 "metadata": {
  "kernelspec": {
   "display_name": "Python 3",
   "language": "python",
   "name": "python3"
  },
  "language_info": {
   "codemirror_mode": {
    "name": "ipython",
    "version": 3
   },
   "file_extension": ".py",
   "mimetype": "text/x-python",
   "name": "python",
   "nbconvert_exporter": "python",
   "pygments_lexer": "ipython3",
   "version": "3.8.8"
  }
 },
 "nbformat": 4,
 "nbformat_minor": 4
}
